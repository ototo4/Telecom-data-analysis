{
 "cells": [
  {
   "cell_type": "code",
   "execution_count": 2,
   "id": "378b1df7",
   "metadata": {},
   "outputs": [],
   "source": [
    "import pandas as pd\n",
    "#행렬 연산 패키지\n",
    "import numpy as np\n",
    "#데이터 시각화 패키지\n",
    "import matplotlib as mpl\n",
    "import matplotlib.pyplot as plt\n",
    "import matplotlib.font_manager\n",
    "import seaborn as sns"
   ]
  },
  {
   "cell_type": "code",
   "execution_count": 7,
   "id": "b69a31b4",
   "metadata": {},
   "outputs": [],
   "source": [
    "def show_Boxplot(set_data):\n",
    "    for i in set_data.columns:\n",
    "        print(i)\n",
    "        set_data.boxplot(column = i)\n",
    "        plt.show()"
   ]
  },
  {
   "cell_type": "markdown",
   "id": "77be2d6a",
   "metadata": {},
   "source": [
    "# 데이터 읽기"
   ]
  },
  {
   "cell_type": "code",
   "execution_count": 15,
   "id": "f98025c0",
   "metadata": {},
   "outputs": [],
   "source": [
    "df_raw = pd.read_csv('telco_customer.csv', encoding = 'euc-kr')\n",
    "df_charge = pd.read_csv('telco_charge.csv')"
   ]
  },
  {
   "cell_type": "markdown",
   "id": "3e8573ce",
   "metadata": {},
   "source": [
    "# 결측값 및 이상치"
   ]
  },
  {
   "cell_type": "markdown",
   "id": "30208394",
   "metadata": {},
   "source": [
    "## 결측치 제거"
   ]
  },
  {
   "cell_type": "code",
   "execution_count": 9,
   "id": "67e0eb62",
   "metadata": {},
   "outputs": [
    {
     "data": {
      "text/plain": [
       "CustomerId                 0\n",
       "Gender                     0\n",
       "Age                        0\n",
       "AgeGroup                   0\n",
       "Married                    0\n",
       "Dependents                 0\n",
       "noDependents               0\n",
       "Referrals                  0\n",
       "noReferrals                0\n",
       "PaperlessBilling           0\n",
       "PaymentMethod              0\n",
       "OnlineSecurity             0\n",
       "OnlineBackup               0\n",
       "TechSupport                0\n",
       "UnlimitedData              0\n",
       "AvgDownloadGB              0\n",
       "StartDate                  0\n",
       "EndDate                 5158\n",
       "EndDateTmp                 0\n",
       "ChurnLabel                 0\n",
       "ChurnScore                 0\n",
       "ChurnCategory           5158\n",
       "ChurnReason             5158\n",
       "CustomerLTV                0\n",
       "SatisScore                 0\n",
       "TotalExtraDataCharge       0\n",
       "AvgRoamCharge              0\n",
       "TotalRoamCharge            0\n",
       "dtype: int64"
      ]
     },
     "execution_count": 9,
     "metadata": {},
     "output_type": "execute_result"
    }
   ],
   "source": [
    "df_raw.isnull().sum()"
   ]
  },
  {
   "cell_type": "markdown",
   "id": "2cc3392f",
   "metadata": {},
   "source": [
    "이탈하지 않은 사람의 데이터에 비어있는 것이기 때문에 이상치라 말할 수 없음"
   ]
  },
  {
   "cell_type": "markdown",
   "id": "3e8f6c9b",
   "metadata": {},
   "source": [
    "## 이상치 제거"
   ]
  },
  {
   "cell_type": "markdown",
   "id": "93aab0e3",
   "metadata": {},
   "source": [
    "### 상식적으로 맞지 않는 이상치"
   ]
  },
  {
   "cell_type": "code",
   "execution_count": 4,
   "id": "d91a3b8a",
   "metadata": {},
   "outputs": [],
   "source": [
    "df_raw = df_raw.drop(df_raw[(df_raw['UnlimitedData'] == 'No') \\\n",
    "                            & (df_raw['AvgDownloadGB'] > 60) \\\n",
    "                            & (df_raw['TotalExtraDataCharge'] == 0)].index, axis = 'index')"
   ]
  },
  {
   "cell_type": "code",
   "execution_count": 8,
   "id": "1d733456",
   "metadata": {},
   "outputs": [
    {
     "name": "stdout",
     "output_type": "stream",
     "text": [
      "<class 'pandas.core.frame.DataFrame'>\n",
      "Int64Index: 6859 entries, 0 to 6862\n",
      "Data columns (total 28 columns):\n",
      " #   Column                Non-Null Count  Dtype \n",
      "---  ------                --------------  ----- \n",
      " 0   CustomerId            6859 non-null   object\n",
      " 1   Gender                6859 non-null   object\n",
      " 2   Age                   6859 non-null   int64 \n",
      " 3   AgeGroup              6859 non-null   object\n",
      " 4   Married               6859 non-null   object\n",
      " 5   Dependents            6859 non-null   object\n",
      " 6   noDependents          6859 non-null   int64 \n",
      " 7   Referrals             6859 non-null   object\n",
      " 8   noReferrals           6859 non-null   int64 \n",
      " 9   PaperlessBilling      6859 non-null   object\n",
      " 10  PaymentMethod         6859 non-null   object\n",
      " 11  OnlineSecurity        6859 non-null   object\n",
      " 12  OnlineBackup          6859 non-null   object\n",
      " 13  TechSupport           6859 non-null   object\n",
      " 14  UnlimitedData         6859 non-null   object\n",
      " 15  AvgDownloadGB         6859 non-null   int64 \n",
      " 16  StartDate             6859 non-null   object\n",
      " 17  EndDate               1701 non-null   object\n",
      " 18  EndDateTmp            6859 non-null   object\n",
      " 19  ChurnLabel            6859 non-null   object\n",
      " 20  ChurnScore            6859 non-null   int64 \n",
      " 21  ChurnCategory         1701 non-null   object\n",
      " 22  ChurnReason           1701 non-null   object\n",
      " 23  CustomerLTV           6859 non-null   int64 \n",
      " 24  SatisScore            6859 non-null   int64 \n",
      " 25  TotalExtraDataCharge  6859 non-null   int64 \n",
      " 26  AvgRoamCharge         6859 non-null   int64 \n",
      " 27  TotalRoamCharge       6859 non-null   int64 \n",
      "dtypes: int64(10), object(18)\n",
      "memory usage: 1.5+ MB\n"
     ]
    }
   ],
   "source": [
    "df_raw.info()"
   ]
  },
  {
   "cell_type": "markdown",
   "id": "152b5b49",
   "metadata": {},
   "source": [
    "### boxplot 이용한 이상치"
   ]
  },
  {
   "cell_type": "code",
   "execution_count": 11,
   "id": "c7b5abd9",
   "metadata": {},
   "outputs": [
    {
     "name": "stdout",
     "output_type": "stream",
     "text": [
      "<class 'pandas.core.frame.DataFrame'>\n",
      "Int64Index: 6859 entries, 0 to 6862\n",
      "Data columns (total 10 columns):\n",
      " #   Column                Non-Null Count  Dtype\n",
      "---  ------                --------------  -----\n",
      " 0   Age                   6859 non-null   int64\n",
      " 1   noDependents          6859 non-null   int64\n",
      " 2   noReferrals           6859 non-null   int64\n",
      " 3   AvgDownloadGB         6859 non-null   int64\n",
      " 4   ChurnScore            6859 non-null   int64\n",
      " 5   CustomerLTV           6859 non-null   int64\n",
      " 6   SatisScore            6859 non-null   int64\n",
      " 7   TotalExtraDataCharge  6859 non-null   int64\n",
      " 8   AvgRoamCharge         6859 non-null   int64\n",
      " 9   TotalRoamCharge       6859 non-null   int64\n",
      "dtypes: int64(10)\n",
      "memory usage: 589.4 KB\n"
     ]
    }
   ],
   "source": [
    "df_box = df_raw.select_dtypes(exclude = 'object')"
   ]
  },
  {
   "cell_type": "code",
   "execution_count": 12,
   "id": "1660c9ae",
   "metadata": {
    "scrolled": true
   },
   "outputs": [
    {
     "name": "stdout",
     "output_type": "stream",
     "text": [
      "Age\n"
     ]
    },
    {
     "data": {
      "image/png": "[encoded data removed]",
      "text/plain": [
       "<Figure size 640x480 with 1 Axes>"
      ]
     },
     "metadata": {},
     "output_type": "display_data"
    },
    {
     "name": "stdout",
     "output_type": "stream",
     "text": [
      "noDependents\n"
     ]
    },
    {
     "data": {
      "image/png": "[encoded data removed]",
      "text/plain": [
       "<Figure size 640x480 with 1 Axes>"
      ]
     },
     "metadata": {},
     "output_type": "display_data"
    },
    {
     "name": "stdout",
     "output_type": "stream",
     "text": [
      "noReferrals\n"
     ]
    },
    {
     "data": {
      "image/png": "[encoded data removed]",
      "text/plain": [
       "<Figure size 640x480 with 1 Axes>"
      ]
     },
     "metadata": {},
     "output_type": "display_data"
    },
    {
     "name": "stdout",
     "output_type": "stream",
     "text": [
      "AvgDownloadGB\n"
     ]
    },
    {
     "data": {
      "image/png": "[encoded data removed]",
      "text/plain": [
       "<Figure size 640x480 with 1 Axes>"
      ]
     },
     "metadata": {},
     "output_type": "display_data"
    },
    {
     "name": "stdout",
     "output_type": "stream",
     "text": [
      "ChurnScore\n"
     ]
    },
    {
     "data": {
      "image/png": "[encoded data removed]",
      "text/plain": [
       "<Figure size 640x480 with 1 Axes>"
      ]
     },
     "metadata": {},
     "output_type": "display_data"
    },
    {
     "name": "stdout",
     "output_type": "stream",
     "text": [
      "CustomerLTV\n"
     ]
    },
    {
     "data": {
      "image/png": "[encoded data removed]",
      "text/plain": [
       "<Figure size 640x480 with 1 Axes>"
      ]
     },
     "metadata": {},
     "output_type": "display_data"
    },
    {
     "name": "stdout",
     "output_type": "stream",
     "text": [
      "SatisScore\n"
     ]
    },
    {
     "data": {
      "image/png": "[encoded data removed]",
      "text/plain": [
       "<Figure size 640x480 with 1 Axes>"
      ]
     },
     "metadata": {},
     "output_type": "display_data"
    },
    {
     "name": "stdout",
     "output_type": "stream",
     "text": [
      "TotalExtraDataCharge\n"
     ]
    },
    {
     "data": {
      "image/png": "[encoded data removed]",
      "text/plain": [
       "<Figure size 640x480 with 1 Axes>"
      ]
     },
     "metadata": {},
     "output_type": "display_data"
    },
    {
     "name": "stdout",
     "output_type": "stream",
     "text": [
      "AvgRoamCharge\n"
     ]
    },
    {
     "data": {
      "image/png": "[encoded data removed]",
      "text/plain": [
       "<Figure size 640x480 with 1 Axes>"
      ]
     },
     "metadata": {},
     "output_type": "display_data"
    },
    {
     "name": "stdout",
     "output_type": "stream",
     "text": [
      "TotalRoamCharge\n"
     ]
    },
    {
     "data": {
      "image/png": "[encoded data removed]",
      "text/plain": [
       "<Figure size 640x480 with 1 Axes>"
      ]
     },
     "metadata": {},
     "output_type": "display_data"
    }
   ],
   "source": [
    "show_Boxplot(df_box)"
   ]
  },
  {
   "cell_type": "markdown",
   "id": "0921ae56",
   "metadata": {},
   "source": [
    "가능한 이상치 생성, but 3사의 요금제, 개인의 편차 등을 고려하여 이상치라 할 수 없음"
   ]
  },
  {
   "cell_type": "markdown",
   "id": "e67b3e40",
   "metadata": {},
   "source": [
    "# 파생 변수"
   ]
  },
  {
   "cell_type": "markdown",
   "id": "ca200b0a",
   "metadata": {},
   "source": [
    "## Tenure_month"
   ]
  },
  {
   "cell_type": "code",
   "execution_count": 18,
   "id": "d1c005b5",
   "metadata": {},
   "outputs": [
    {
     "data": {
      "text/plain": [
       "CustomerId\n",
       "C-10001    21\n",
       "C-10002    21\n",
       "C-10003     5\n",
       "C-10004    14\n",
       "C-10005     4\n",
       "           ..\n",
       "C-17039    25\n",
       "C-17040    23\n",
       "C-17041    14\n",
       "C-17042    79\n",
       "C-17043    75\n",
       "Name: ChargeAmt, Length: 6863, dtype: int64"
      ]
     },
     "execution_count": 18,
     "metadata": {},
     "output_type": "execute_result"
    }
   ],
   "source": [
    "#아이디 별 총 사용 기간\n",
    "count_id = df_charge.groupby('CustomerId').count()\n",
    "count_id['ChargeAmt']"
   ]
  },
  {
   "cell_type": "code",
   "execution_count": 20,
   "id": "e3f7b071",
   "metadata": {},
   "outputs": [
    {
     "name": "stderr",
     "output_type": "stream",
     "text": [
      "C:\\Users\\Kwangyoung Han\\AppData\\Local\\Temp\\ipykernel_17512\\2042742329.py:3: SettingWithCopyWarning: \n",
      "A value is trying to be set on a copy of a slice from a DataFrame\n",
      "\n",
      "See the caveats in the documentation: https://pandas.pydata.org/pandas-docs/stable/user_guide/indexing.html#returning-a-view-versus-a-copy\n",
      "  df_raw['Tenure_month'][i] = count_id['ChargeAmt'][i]\n"
     ]
    }
   ],
   "source": [
    "df_raw['Tenure_month'] = np.NaN\n",
    "for i in range(len(df_raw)):\n",
    "    df_raw['Tenure_month'][i] = count_id['ChargeAmt'][i]"
   ]
  },
  {
   "cell_type": "markdown",
   "id": "9fe6e7cd",
   "metadata": {},
   "source": [
    "## Sum_charge"
   ]
  },
  {
   "cell_type": "code",
   "execution_count": 19,
   "id": "b82f97d4",
   "metadata": {},
   "outputs": [
    {
     "data": {
      "text/html": [
       "<div>\n",
       "<style scoped>\n",
       "    .dataframe tbody tr th:only-of-type {\n",
       "        vertical-align: middle;\n",
       "    }\n",
       "\n",
       "    .dataframe tbody tr th {\n",
       "        vertical-align: top;\n",
       "    }\n",
       "\n",
       "    .dataframe thead th {\n",
       "        text-align: right;\n",
       "    }\n",
       "</style>\n",
       "<table border=\"1\" class=\"dataframe\">\n",
       "  <thead>\n",
       "    <tr style=\"text-align: right;\">\n",
       "      <th></th>\n",
       "      <th>ChargeAmt</th>\n",
       "    </tr>\n",
       "    <tr>\n",
       "      <th>CustomerId</th>\n",
       "      <th></th>\n",
       "    </tr>\n",
       "  </thead>\n",
       "  <tbody>\n",
       "    <tr>\n",
       "      <th>C-10001</th>\n",
       "      <td>1755400</td>\n",
       "    </tr>\n",
       "    <tr>\n",
       "      <th>C-10002</th>\n",
       "      <td>1447500</td>\n",
       "    </tr>\n",
       "    <tr>\n",
       "      <th>C-10003</th>\n",
       "      <td>490900</td>\n",
       "    </tr>\n",
       "    <tr>\n",
       "      <th>C-10004</th>\n",
       "      <td>1578400</td>\n",
       "    </tr>\n",
       "    <tr>\n",
       "      <th>C-10005</th>\n",
       "      <td>378000</td>\n",
       "    </tr>\n",
       "    <tr>\n",
       "      <th>...</th>\n",
       "      <td>...</td>\n",
       "    </tr>\n",
       "    <tr>\n",
       "      <th>C-17039</th>\n",
       "      <td>1610700</td>\n",
       "    </tr>\n",
       "    <tr>\n",
       "      <th>C-17040</th>\n",
       "      <td>2343500</td>\n",
       "    </tr>\n",
       "    <tr>\n",
       "      <th>C-17041</th>\n",
       "      <td>792400</td>\n",
       "    </tr>\n",
       "    <tr>\n",
       "      <th>C-17042</th>\n",
       "      <td>6328500</td>\n",
       "    </tr>\n",
       "    <tr>\n",
       "      <th>C-17043</th>\n",
       "      <td>5196100</td>\n",
       "    </tr>\n",
       "  </tbody>\n",
       "</table>\n",
       "<p>6863 rows × 1 columns</p>\n",
       "</div>"
      ],
      "text/plain": [
       "            ChargeAmt\n",
       "CustomerId           \n",
       "C-10001       1755400\n",
       "C-10002       1447500\n",
       "C-10003        490900\n",
       "C-10004       1578400\n",
       "C-10005        378000\n",
       "...               ...\n",
       "C-17039       1610700\n",
       "C-17040       2343500\n",
       "C-17041        792400\n",
       "C-17042       6328500\n",
       "C-17043       5196100\n",
       "\n",
       "[6863 rows x 1 columns]"
      ]
     },
     "execution_count": 19,
     "metadata": {},
     "output_type": "execute_result"
    }
   ],
   "source": [
    "#아이디별 총 과금액\n",
    "sum_id = df_charge.groupby('CustomerId').sum()\n",
    "sum_id[['ChargeAmt']]"
   ]
  },
  {
   "cell_type": "code",
   "execution_count": 25,
   "id": "ae65feef",
   "metadata": {},
   "outputs": [
    {
     "name": "stderr",
     "output_type": "stream",
     "text": [
      "C:\\Users\\Kwangyoung Han\\AppData\\Local\\Temp\\ipykernel_17512\\577372011.py:3: SettingWithCopyWarning: \n",
      "A value is trying to be set on a copy of a slice from a DataFrame\n",
      "\n",
      "See the caveats in the documentation: https://pandas.pydata.org/pandas-docs/stable/user_guide/indexing.html#returning-a-view-versus-a-copy\n",
      "  df_raw['Sum_charge'][i] = sum_id['ChargeAmt'][i]\n"
     ]
    }
   ],
   "source": [
    "df_raw['Sum_charge'] = np.NaN\n",
    "for i in range(len(df_raw)):\n",
    "    df_raw['Sum_charge'][i] = sum_id['ChargeAmt'][i]"
   ]
  },
  {
   "cell_type": "markdown",
   "id": "3ee68ba1",
   "metadata": {},
   "source": [
    "## Monthly_charge"
   ]
  },
  {
   "cell_type": "code",
   "execution_count": 28,
   "id": "295bdec1",
   "metadata": {},
   "outputs": [
    {
     "name": "stderr",
     "output_type": "stream",
     "text": [
      "C:\\Users\\Kwangyoung Han\\AppData\\Local\\Temp\\ipykernel_17512\\2065849588.py:3: SettingWithCopyWarning: \n",
      "A value is trying to be set on a copy of a slice from a DataFrame\n",
      "\n",
      "See the caveats in the documentation: https://pandas.pydata.org/pandas-docs/stable/user_guide/indexing.html#returning-a-view-versus-a-copy\n",
      "  df_raw['Monthly_charge'][i] = (df_raw['Sum_charge'][i] / df_raw['Tenure_month'][i]).round(0)\n"
     ]
    }
   ],
   "source": [
    "df_raw['Monthly_charge'] = np.NaN\n",
    "for i in range(len(df_raw)):\n",
    "    df_raw['Monthly_charge'][i] = (df_raw['Sum_charge'][i] / df_raw['Tenure_month'][i]).round(0)"
   ]
  },
  {
   "cell_type": "code",
   "execution_count": 29,
   "id": "9ce489b2",
   "metadata": {},
   "outputs": [
    {
     "data": {
      "text/html": [
       "<div>\n",
       "<style scoped>\n",
       "    .dataframe tbody tr th:only-of-type {\n",
       "        vertical-align: middle;\n",
       "    }\n",
       "\n",
       "    .dataframe tbody tr th {\n",
       "        vertical-align: top;\n",
       "    }\n",
       "\n",
       "    .dataframe thead th {\n",
       "        text-align: right;\n",
       "    }\n",
       "</style>\n",
       "<table border=\"1\" class=\"dataframe\">\n",
       "  <thead>\n",
       "    <tr style=\"text-align: right;\">\n",
       "      <th></th>\n",
       "      <th>CustomerId</th>\n",
       "      <th>Gender</th>\n",
       "      <th>Age</th>\n",
       "      <th>AgeGroup</th>\n",
       "      <th>Married</th>\n",
       "      <th>Dependents</th>\n",
       "      <th>noDependents</th>\n",
       "      <th>Referrals</th>\n",
       "      <th>noReferrals</th>\n",
       "      <th>PaperlessBilling</th>\n",
       "      <th>...</th>\n",
       "      <th>ChurnCategory</th>\n",
       "      <th>ChurnReason</th>\n",
       "      <th>CustomerLTV</th>\n",
       "      <th>SatisScore</th>\n",
       "      <th>TotalExtraDataCharge</th>\n",
       "      <th>AvgRoamCharge</th>\n",
       "      <th>TotalRoamCharge</th>\n",
       "      <th>Tenure_month</th>\n",
       "      <th>Sum_charge</th>\n",
       "      <th>Monthly_charge</th>\n",
       "    </tr>\n",
       "  </thead>\n",
       "  <tbody>\n",
       "    <tr>\n",
       "      <th>0</th>\n",
       "      <td>C-10001</td>\n",
       "      <td>여성</td>\n",
       "      <td>37</td>\n",
       "      <td>30대</td>\n",
       "      <td>Yes</td>\n",
       "      <td>No</td>\n",
       "      <td>0</td>\n",
       "      <td>Yes</td>\n",
       "      <td>2</td>\n",
       "      <td>Yes</td>\n",
       "      <td>...</td>\n",
       "      <td>NaN</td>\n",
       "      <td>NaN</td>\n",
       "      <td>2205</td>\n",
       "      <td>3</td>\n",
       "      <td>0</td>\n",
       "      <td>47910</td>\n",
       "      <td>431100</td>\n",
       "      <td>21.0</td>\n",
       "      <td>1755400.0</td>\n",
       "      <td>83590.0</td>\n",
       "    </tr>\n",
       "    <tr>\n",
       "      <th>1</th>\n",
       "      <td>C-10002</td>\n",
       "      <td>남성</td>\n",
       "      <td>46</td>\n",
       "      <td>40대</td>\n",
       "      <td>No</td>\n",
       "      <td>No</td>\n",
       "      <td>0</td>\n",
       "      <td>No</td>\n",
       "      <td>0</td>\n",
       "      <td>No</td>\n",
       "      <td>...</td>\n",
       "      <td>NaN</td>\n",
       "      <td>NaN</td>\n",
       "      <td>5414</td>\n",
       "      <td>5</td>\n",
       "      <td>11300</td>\n",
       "      <td>12090</td>\n",
       "      <td>108710</td>\n",
       "      <td>21.0</td>\n",
       "      <td>1447500.0</td>\n",
       "      <td>68929.0</td>\n",
       "    </tr>\n",
       "    <tr>\n",
       "      <th>2</th>\n",
       "      <td>C-10003</td>\n",
       "      <td>남성</td>\n",
       "      <td>50</td>\n",
       "      <td>50대</td>\n",
       "      <td>No</td>\n",
       "      <td>No</td>\n",
       "      <td>0</td>\n",
       "      <td>No</td>\n",
       "      <td>0</td>\n",
       "      <td>Yes</td>\n",
       "      <td>...</td>\n",
       "      <td>Competitor</td>\n",
       "      <td>Price too high</td>\n",
       "      <td>4479</td>\n",
       "      <td>1</td>\n",
       "      <td>0</td>\n",
       "      <td>38080</td>\n",
       "      <td>152100</td>\n",
       "      <td>5.0</td>\n",
       "      <td>490900.0</td>\n",
       "      <td>98180.0</td>\n",
       "    </tr>\n",
       "    <tr>\n",
       "      <th>3</th>\n",
       "      <td>C-10004</td>\n",
       "      <td>남성</td>\n",
       "      <td>78</td>\n",
       "      <td>70대</td>\n",
       "      <td>Yes</td>\n",
       "      <td>No</td>\n",
       "      <td>0</td>\n",
       "      <td>Yes</td>\n",
       "      <td>1</td>\n",
       "      <td>Yes</td>\n",
       "      <td>...</td>\n",
       "      <td>Dissatisfaction</td>\n",
       "      <td>Product dissatisfaction</td>\n",
       "      <td>3714</td>\n",
       "      <td>1</td>\n",
       "      <td>0</td>\n",
       "      <td>31410</td>\n",
       "      <td>408720</td>\n",
       "      <td>14.0</td>\n",
       "      <td>1578400.0</td>\n",
       "      <td>112743.0</td>\n",
       "    </tr>\n",
       "    <tr>\n",
       "      <th>4</th>\n",
       "      <td>C-10005</td>\n",
       "      <td>여성</td>\n",
       "      <td>75</td>\n",
       "      <td>70대</td>\n",
       "      <td>Yes</td>\n",
       "      <td>No</td>\n",
       "      <td>0</td>\n",
       "      <td>Yes</td>\n",
       "      <td>3</td>\n",
       "      <td>Yes</td>\n",
       "      <td>...</td>\n",
       "      <td>Dissatisfaction</td>\n",
       "      <td>Network reliability</td>\n",
       "      <td>3464</td>\n",
       "      <td>1</td>\n",
       "      <td>0</td>\n",
       "      <td>8360</td>\n",
       "      <td>24970</td>\n",
       "      <td>4.0</td>\n",
       "      <td>378000.0</td>\n",
       "      <td>94500.0</td>\n",
       "    </tr>\n",
       "    <tr>\n",
       "      <th>...</th>\n",
       "      <td>...</td>\n",
       "      <td>...</td>\n",
       "      <td>...</td>\n",
       "      <td>...</td>\n",
       "      <td>...</td>\n",
       "      <td>...</td>\n",
       "      <td>...</td>\n",
       "      <td>...</td>\n",
       "      <td>...</td>\n",
       "      <td>...</td>\n",
       "      <td>...</td>\n",
       "      <td>...</td>\n",
       "      <td>...</td>\n",
       "      <td>...</td>\n",
       "      <td>...</td>\n",
       "      <td>...</td>\n",
       "      <td>...</td>\n",
       "      <td>...</td>\n",
       "      <td>...</td>\n",
       "      <td>...</td>\n",
       "      <td>...</td>\n",
       "    </tr>\n",
       "    <tr>\n",
       "      <th>6858</th>\n",
       "      <td>C-17039</td>\n",
       "      <td>여성</td>\n",
       "      <td>20</td>\n",
       "      <td>20대</td>\n",
       "      <td>No</td>\n",
       "      <td>No</td>\n",
       "      <td>0</td>\n",
       "      <td>No</td>\n",
       "      <td>0</td>\n",
       "      <td>No</td>\n",
       "      <td>...</td>\n",
       "      <td>NaN</td>\n",
       "      <td>NaN</td>\n",
       "      <td>3161</td>\n",
       "      <td>4</td>\n",
       "      <td>0</td>\n",
       "      <td>52770</td>\n",
       "      <td>685680</td>\n",
       "      <td>25.0</td>\n",
       "      <td>1610700.0</td>\n",
       "      <td>64428.0</td>\n",
       "    </tr>\n",
       "    <tr>\n",
       "      <th>6859</th>\n",
       "      <td>C-17040</td>\n",
       "      <td>남성</td>\n",
       "      <td>40</td>\n",
       "      <td>40대</td>\n",
       "      <td>Yes</td>\n",
       "      <td>No</td>\n",
       "      <td>0</td>\n",
       "      <td>Yes</td>\n",
       "      <td>1</td>\n",
       "      <td>Yes</td>\n",
       "      <td>...</td>\n",
       "      <td>Dissatisfaction</td>\n",
       "      <td>Product dissatisfaction</td>\n",
       "      <td>5248</td>\n",
       "      <td>1</td>\n",
       "      <td>0</td>\n",
       "      <td>18310</td>\n",
       "      <td>402730</td>\n",
       "      <td>23.0</td>\n",
       "      <td>2343500.0</td>\n",
       "      <td>101891.0</td>\n",
       "    </tr>\n",
       "    <tr>\n",
       "      <th>6860</th>\n",
       "      <td>C-17041</td>\n",
       "      <td>남성</td>\n",
       "      <td>22</td>\n",
       "      <td>20대</td>\n",
       "      <td>No</td>\n",
       "      <td>No</td>\n",
       "      <td>0</td>\n",
       "      <td>No</td>\n",
       "      <td>0</td>\n",
       "      <td>Yes</td>\n",
       "      <td>...</td>\n",
       "      <td>NaN</td>\n",
       "      <td>NaN</td>\n",
       "      <td>5870</td>\n",
       "      <td>5</td>\n",
       "      <td>0</td>\n",
       "      <td>21020</td>\n",
       "      <td>42040</td>\n",
       "      <td>14.0</td>\n",
       "      <td>792400.0</td>\n",
       "      <td>56600.0</td>\n",
       "    </tr>\n",
       "    <tr>\n",
       "      <th>6861</th>\n",
       "      <td>C-17042</td>\n",
       "      <td>남성</td>\n",
       "      <td>21</td>\n",
       "      <td>20대</td>\n",
       "      <td>No</td>\n",
       "      <td>No</td>\n",
       "      <td>0</td>\n",
       "      <td>Yes</td>\n",
       "      <td>5</td>\n",
       "      <td>No</td>\n",
       "      <td>...</td>\n",
       "      <td>NaN</td>\n",
       "      <td>NaN</td>\n",
       "      <td>4792</td>\n",
       "      <td>3</td>\n",
       "      <td>0</td>\n",
       "      <td>2370</td>\n",
       "      <td>160460</td>\n",
       "      <td>79.0</td>\n",
       "      <td>6328500.0</td>\n",
       "      <td>80108.0</td>\n",
       "    </tr>\n",
       "    <tr>\n",
       "      <th>6862</th>\n",
       "      <td>C-17043</td>\n",
       "      <td>남성</td>\n",
       "      <td>36</td>\n",
       "      <td>30대</td>\n",
       "      <td>Yes</td>\n",
       "      <td>No</td>\n",
       "      <td>0</td>\n",
       "      <td>Yes</td>\n",
       "      <td>1</td>\n",
       "      <td>No</td>\n",
       "      <td>...</td>\n",
       "      <td>NaN</td>\n",
       "      <td>NaN</td>\n",
       "      <td>5639</td>\n",
       "      <td>3</td>\n",
       "      <td>0</td>\n",
       "      <td>0</td>\n",
       "      <td>0</td>\n",
       "      <td>75.0</td>\n",
       "      <td>5196100.0</td>\n",
       "      <td>69281.0</td>\n",
       "    </tr>\n",
       "  </tbody>\n",
       "</table>\n",
       "<p>6863 rows × 31 columns</p>\n",
       "</div>"
      ],
      "text/plain": [
       "     CustomerId Gender  Age AgeGroup Married Dependents  noDependents  \\\n",
       "0       C-10001     여성   37      30대     Yes         No             0   \n",
       "1       C-10002     남성   46      40대      No         No             0   \n",
       "2       C-10003     남성   50      50대      No         No             0   \n",
       "3       C-10004     남성   78      70대     Yes         No             0   \n",
       "4       C-10005     여성   75      70대     Yes         No             0   \n",
       "...         ...    ...  ...      ...     ...        ...           ...   \n",
       "6858    C-17039     여성   20      20대      No         No             0   \n",
       "6859    C-17040     남성   40      40대     Yes         No             0   \n",
       "6860    C-17041     남성   22      20대      No         No             0   \n",
       "6861    C-17042     남성   21      20대      No         No             0   \n",
       "6862    C-17043     남성   36      30대     Yes         No             0   \n",
       "\n",
       "     Referrals  noReferrals PaperlessBilling  ...    ChurnCategory  \\\n",
       "0          Yes            2              Yes  ...              NaN   \n",
       "1           No            0               No  ...              NaN   \n",
       "2           No            0              Yes  ...       Competitor   \n",
       "3          Yes            1              Yes  ...  Dissatisfaction   \n",
       "4          Yes            3              Yes  ...  Dissatisfaction   \n",
       "...        ...          ...              ...  ...              ...   \n",
       "6858        No            0               No  ...              NaN   \n",
       "6859       Yes            1              Yes  ...  Dissatisfaction   \n",
       "6860        No            0              Yes  ...              NaN   \n",
       "6861       Yes            5               No  ...              NaN   \n",
       "6862       Yes            1               No  ...              NaN   \n",
       "\n",
       "                  ChurnReason CustomerLTV SatisScore TotalExtraDataCharge  \\\n",
       "0                         NaN        2205          3                    0   \n",
       "1                         NaN        5414          5                11300   \n",
       "2              Price too high        4479          1                    0   \n",
       "3     Product dissatisfaction        3714          1                    0   \n",
       "4         Network reliability        3464          1                    0   \n",
       "...                       ...         ...        ...                  ...   \n",
       "6858                      NaN        3161          4                    0   \n",
       "6859  Product dissatisfaction        5248          1                    0   \n",
       "6860                      NaN        5870          5                    0   \n",
       "6861                      NaN        4792          3                    0   \n",
       "6862                      NaN        5639          3                    0   \n",
       "\n",
       "      AvgRoamCharge TotalRoamCharge Tenure_month Sum_charge Monthly_charge  \n",
       "0             47910          431100         21.0  1755400.0        83590.0  \n",
       "1             12090          108710         21.0  1447500.0        68929.0  \n",
       "2             38080          152100          5.0   490900.0        98180.0  \n",
       "3             31410          408720         14.0  1578400.0       112743.0  \n",
       "4              8360           24970          4.0   378000.0        94500.0  \n",
       "...             ...             ...          ...        ...            ...  \n",
       "6858          52770          685680         25.0  1610700.0        64428.0  \n",
       "6859          18310          402730         23.0  2343500.0       101891.0  \n",
       "6860          21020           42040         14.0   792400.0        56600.0  \n",
       "6861           2370          160460         79.0  6328500.0        80108.0  \n",
       "6862              0               0         75.0  5196100.0        69281.0  \n",
       "\n",
       "[6863 rows x 31 columns]"
      ]
     },
     "execution_count": 29,
     "metadata": {},
     "output_type": "execute_result"
    }
   ],
   "source": [
    "df_raw"
   ]
  },
  {
   "cell_type": "markdown",
   "id": "e052b3b4",
   "metadata": {},
   "source": [
    "## Churn Category를 3C로"
   ]
  },
  {
   "cell_type": "markdown",
   "id": "23e4d77e",
   "metadata": {},
   "source": [
    "### other 재분류"
   ]
  },
  {
   "cell_type": "code",
   "execution_count": 30,
   "id": "6ed1e2c0",
   "metadata": {},
   "outputs": [
    {
     "name": "stderr",
     "output_type": "stream",
     "text": [
      "C:\\Users\\Kwangyoung Han\\AppData\\Local\\Temp\\ipykernel_17512\\47040919.py:10: SettingWithCopyWarning: \n",
      "A value is trying to be set on a copy of a slice from a DataFrame\n",
      "\n",
      "See the caveats in the documentation: https://pandas.pydata.org/pandas-docs/stable/user_guide/indexing.html#returning-a-view-versus-a-copy\n",
      "  df_raw['ChurnCategory'][i] = 'Competitor'\n",
      "C:\\Users\\Kwangyoung Han\\AppData\\Local\\Temp\\ipykernel_17512\\47040919.py:27: SettingWithCopyWarning: \n",
      "A value is trying to be set on a copy of a slice from a DataFrame\n",
      "\n",
      "See the caveats in the documentation: https://pandas.pydata.org/pandas-docs/stable/user_guide/indexing.html#returning-a-view-versus-a-copy\n",
      "  df_raw['ChurnCategory'][i] = 'Dissatisfaction'\n",
      "C:\\Users\\Kwangyoung Han\\AppData\\Local\\Temp\\ipykernel_17512\\47040919.py:35: SettingWithCopyWarning: \n",
      "A value is trying to be set on a copy of a slice from a DataFrame\n",
      "\n",
      "See the caveats in the documentation: https://pandas.pydata.org/pandas-docs/stable/user_guide/indexing.html#returning-a-view-versus-a-copy\n",
      "  df_raw['ChurnCategory'][i] = 'Attitude'\n",
      "C:\\Users\\Kwangyoung Han\\AppData\\Local\\Temp\\ipykernel_17512\\47040919.py:18: SettingWithCopyWarning: \n",
      "A value is trying to be set on a copy of a slice from a DataFrame\n",
      "\n",
      "See the caveats in the documentation: https://pandas.pydata.org/pandas-docs/stable/user_guide/indexing.html#returning-a-view-versus-a-copy\n",
      "  df_raw['ChurnCategory'][i] = 'Price'\n"
     ]
    }
   ],
   "source": [
    "for i in range(len(df_raw)):\n",
    "    if(df_raw['ChurnCategory'][i] == 'Other'):\n",
    "        #Competitor\n",
    "        df_change = ((df_raw['ChurnReason'].str.contains('Competitor offered more data')) |\\\n",
    "                     (df_raw['ChurnReason'].str.contains('Competitor offered higher download speeds')) |\\\n",
    "                     (df_raw['ChurnReason'].str.contains('Competitor offered more data')))      \n",
    "        df_change = df_change.replace({True: 'Competitor', False: 'Non'})\n",
    "        \n",
    "        if(df_change[i] == 'Competitor'):\n",
    "            df_raw['ChurnCategory'][i] = 'Competitor'\n",
    "        \n",
    "        #Price\n",
    "        df_change = ((df_raw['ChurnReason'].str.contains('Price too high')) |\\\n",
    "                     (df_raw['ChurnReason'].str.contains('Extra data charges')))\n",
    "        df_change = df_change.replace({True: 'Price', False: 'Non'})\n",
    "        \n",
    "        if(df_change[i] == 'Price'):\n",
    "            df_raw['ChurnCategory'][i] = 'Price'\n",
    "        \n",
    "        #Dissatisfaction\n",
    "        df_change = ((df_raw['ChurnReason'].str.contains('Limited range of services')) |\\\n",
    "                     (df_raw['ChurnReason'].str.contains('Service dissatisfaction')) |\\\n",
    "                     (df_raw['ChurnReason'].str.contains('Network reliability')))\n",
    "        df_change = df_change.replace({True: 'Dissatisfaction', False: 'Non'})\n",
    "\n",
    "        if(df_change[i] == 'Dissatisfaction'):\n",
    "            df_raw['ChurnCategory'][i] = 'Dissatisfaction'   \n",
    "            \n",
    "        #Attitude\n",
    "        df_change = (df_raw['ChurnReason'].str.contains('Attitude of support person') |\\\n",
    "                     df_raw['ChurnReason'].str.contains('Attitude of service provider'))\n",
    "        df_change = df_change.replace({True: 'Attitude', False: 'Non'})\n",
    "                      \n",
    "        if(df_change[i] == 'Attitude'):\n",
    "            df_raw['ChurnCategory'][i] = 'Attitude'              "
   ]
  },
  {
   "cell_type": "code",
   "execution_count": 31,
   "id": "e9caaa09",
   "metadata": {},
   "outputs": [
    {
     "data": {
      "text/plain": [
       "Don't know                      119\n",
       "Moved                            43\n",
       "Deceased                          4\n",
       "Competitor made better offer      3\n",
       "Name: ChurnReason, dtype: int64"
      ]
     },
     "execution_count": 31,
     "metadata": {},
     "output_type": "execute_result"
    }
   ],
   "source": [
    "df_raw['ChurnReason'][df_raw['ChurnCategory'] == 'Other'].value_counts()"
   ]
  },
  {
   "cell_type": "markdown",
   "id": "b040ba7a",
   "metadata": {},
   "source": [
    "### ChurnCategory 3C로 바꾸기"
   ]
  },
  {
   "cell_type": "code",
   "execution_count": 32,
   "id": "8d26314a",
   "metadata": {},
   "outputs": [
    {
     "name": "stderr",
     "output_type": "stream",
     "text": [
      "C:\\Users\\Kwangyoung Han\\AppData\\Local\\Temp\\ipykernel_17512\\1873547558.py:4: SettingWithCopyWarning: \n",
      "A value is trying to be set on a copy of a slice from a DataFrame\n",
      "\n",
      "See the caveats in the documentation: https://pandas.pydata.org/pandas-docs/stable/user_guide/indexing.html#returning-a-view-versus-a-copy\n",
      "  df_raw['ChurnCategory'][i] = 'Cosumer'\n",
      "C:\\Users\\Kwangyoung Han\\AppData\\Local\\Temp\\ipykernel_17512\\1873547558.py:8: SettingWithCopyWarning: \n",
      "A value is trying to be set on a copy of a slice from a DataFrame\n",
      "\n",
      "See the caveats in the documentation: https://pandas.pydata.org/pandas-docs/stable/user_guide/indexing.html#returning-a-view-versus-a-copy\n",
      "  df_raw['ChurnCategory'][i] = 'Company'\n"
     ]
    }
   ],
   "source": [
    "for i in range(len(df_raw)):\n",
    "    if ((df_raw['ChurnCategory'][i] == 'Dissatisfaction')\\\n",
    "        | (df_raw['ChurnCategory'][i] == 'Other')):\n",
    "        df_raw['ChurnCategory'][i] = 'Cosumer'\n",
    "        continue\n",
    "    if ((df_raw['ChurnCategory'][i] == 'Price')\\\n",
    "        | (df_raw['ChurnCategory'][i] == 'Attitude')):\n",
    "        df_raw['ChurnCategory'][i] = 'Company'\n",
    "        continue"
   ]
  },
  {
   "cell_type": "code",
   "execution_count": 33,
   "id": "65ba9240",
   "metadata": {
    "scrolled": true
   },
   "outputs": [
    {
     "data": {
      "text/plain": [
       "Competitor    765\n",
       "Company       486\n",
       "Cosumer       451\n",
       "Name: ChurnCategory, dtype: int64"
      ]
     },
     "execution_count": 33,
     "metadata": {},
     "output_type": "execute_result"
    }
   ],
   "source": [
    "df_raw['ChurnCategory'].value_counts()"
   ]
  },
  {
   "cell_type": "markdown",
   "id": "2aabf376",
   "metadata": {},
   "source": [
    "### Reason price 부분은 다 company로"
   ]
  },
  {
   "cell_type": "code",
   "execution_count": 34,
   "id": "f4efa148",
   "metadata": {},
   "outputs": [
    {
     "name": "stderr",
     "output_type": "stream",
     "text": [
      "C:\\Users\\Kwangyoung Han\\AppData\\Local\\Temp\\ipykernel_17512\\848702448.py:8: SettingWithCopyWarning: \n",
      "A value is trying to be set on a copy of a slice from a DataFrame\n",
      "\n",
      "See the caveats in the documentation: https://pandas.pydata.org/pandas-docs/stable/user_guide/indexing.html#returning-a-view-versus-a-copy\n",
      "  df_raw['ChurnCategory'][i] = 'Company'\n"
     ]
    }
   ],
   "source": [
    "for i in range(len(df_raw)):\n",
    "    df_change = ((df_raw['ChurnReason'].str.contains('Price too high')) |\\\n",
    "                 (df_raw['ChurnReason'].str.contains('Extra data charges')) |\\\n",
    "                 (df_raw['ChurnReason'].str.contains('Long distance charges')))      \n",
    "    df_change = df_change.replace({True: 'Company', False: 'Non'})\n",
    "        \n",
    "    if(df_change[i] == 'Company'):\n",
    "        df_raw['ChurnCategory'][i] = 'Company'"
   ]
  },
  {
   "cell_type": "markdown",
   "id": "34823895",
   "metadata": {},
   "source": [
    "## ReasonCategory"
   ]
  },
  {
   "cell_type": "code",
   "execution_count": 35,
   "id": "b19cf4ab",
   "metadata": {},
   "outputs": [],
   "source": [
    "df_raw['ReasonCategory'] = np.NaN"
   ]
  },
  {
   "cell_type": "code",
   "execution_count": 36,
   "id": "bbbf65d9",
   "metadata": {},
   "outputs": [
    {
     "name": "stderr",
     "output_type": "stream",
     "text": [
      "C:\\Users\\Kwangyoung Han\\AppData\\Local\\Temp\\ipykernel_17512\\206046297.py:37: SettingWithCopyWarning: \n",
      "A value is trying to be set on a copy of a slice from a DataFrame\n",
      "\n",
      "See the caveats in the documentation: https://pandas.pydata.org/pandas-docs/stable/user_guide/indexing.html#returning-a-view-versus-a-copy\n",
      "  df_raw['ReasonCategory'][i] = 'Price'\n"
     ]
    }
   ],
   "source": [
    "for i in range(len(df_raw)):\n",
    "    #Product service\n",
    "    df_change = ((df_raw['ChurnReason'].str.contains('Competitor offered more data')) |\\\n",
    "                 (df_raw['ChurnReason'].str.contains('Competitor made better offer')) |\\\n",
    "                 (df_raw['ChurnReason'].str.contains('Competitor had better devices')) |\\\n",
    "                 (df_raw['ChurnReason'].str.contains('Attitude of support person')) |\\\n",
    "                 (df_raw['ChurnReason'].str.contains('Product dissatisfaction')) |\\\n",
    "                 (df_raw['ChurnReason'].str.contains('Poor expertise of phone support')) |\\\n",
    "                 (df_raw['ChurnReason'].str.contains('Limited range of services')) |\\\n",
    "                 (df_raw['ChurnReason'].str.contains('Attitude of support person')) |\\\n",
    "                 (df_raw['ChurnReason'].str.contains('Network reliability')) |\\\n",
    "                 (df_raw['ChurnReason'].str.contains('Competitor offered higher download speeds')) |\\\n",
    "                 (df_raw['ChurnReason'].str.contains('Lack of affordable download/upload speed')))\n",
    "    df_change = df_change.replace({True: 'PS', False: 'Non'})\n",
    "        \n",
    "    if(df_change[i] == 'PS'):\n",
    "        df_raw['ReasonCategory'][i] = 'PS'\n",
    "        \n",
    "    #Customer service\n",
    "    df_change = ((df_raw['ChurnReason'].str.contains('Attitude of service provider')) |\\\n",
    "                 (df_raw['ChurnReason'].str.contains('Service dissatisfaction')) |\\\n",
    "                 (df_raw['ChurnReason'].str.contains('Lack of self-service on Website')) |\\\n",
    "                 (df_raw['ChurnReason'].str.contains('Poor expertise of online support')) |\\\n",
    "                 (df_raw['ChurnReason'].str.contains('Attitude of service provider')))\n",
    "    df_change = df_change.replace({True: 'CS', False: 'Non'})\n",
    "        \n",
    "    if(df_change[i] == 'CS'):\n",
    "        df_raw['ReasonCategory'][i] = 'CS'\n",
    "    \n",
    "    #Price\n",
    "    df_change = ((df_raw['ChurnReason'].str.contains('Price too high')) |\\\n",
    "                     (df_raw['ChurnReason'].str.contains('Extra data charges')) |\\\n",
    "                     (df_raw['ChurnReason'].str.contains('Long distance charges')))      \n",
    "    df_change = df_change.replace({True: 'Price', False: 'Non'})\n",
    "        \n",
    "    if(df_change[i] == 'Price'):\n",
    "        df_raw['ReasonCategory'][i] = 'Price'\n",
    "        \n",
    "    #Other\n",
    "    df_change = ((df_raw['ChurnReason'].str.contains(\"Don't know\")) |\\\n",
    "                 (df_raw['ChurnReason'].str.contains('Moved')) |\\\n",
    "                 (df_raw['ChurnReason'].str.contains('Deceased')))      \n",
    "    df_change = df_change.replace({True: 'Other', False: 'Non'})\n",
    "        \n",
    "    if(df_change[i] == 'Other'):\n",
    "        df_raw['ReasonCategory'][i] = 'Other'"
   ]
  },
  {
   "cell_type": "markdown",
   "id": "0715174f",
   "metadata": {},
   "source": [
    "# 최종 파일 추출"
   ]
  },
  {
   "cell_type": "code",
   "execution_count": 38,
   "id": "31d688e0",
   "metadata": {},
   "outputs": [
    {
     "data": {
      "text/html": [
       "<div>\n",
       "<style scoped>\n",
       "    .dataframe tbody tr th:only-of-type {\n",
       "        vertical-align: middle;\n",
       "    }\n",
       "\n",
       "    .dataframe tbody tr th {\n",
       "        vertical-align: top;\n",
       "    }\n",
       "\n",
       "    .dataframe thead th {\n",
       "        text-align: right;\n",
       "    }\n",
       "</style>\n",
       "<table border=\"1\" class=\"dataframe\">\n",
       "  <thead>\n",
       "    <tr style=\"text-align: right;\">\n",
       "      <th></th>\n",
       "      <th>CustomerId</th>\n",
       "      <th>Gender</th>\n",
       "      <th>Age</th>\n",
       "      <th>AgeGroup</th>\n",
       "      <th>Married</th>\n",
       "      <th>Dependents</th>\n",
       "      <th>noDependents</th>\n",
       "      <th>Referrals</th>\n",
       "      <th>noReferrals</th>\n",
       "      <th>PaperlessBilling</th>\n",
       "      <th>...</th>\n",
       "      <th>ChurnReason</th>\n",
       "      <th>CustomerLTV</th>\n",
       "      <th>SatisScore</th>\n",
       "      <th>TotalExtraDataCharge</th>\n",
       "      <th>AvgRoamCharge</th>\n",
       "      <th>TotalRoamCharge</th>\n",
       "      <th>Tenure_month</th>\n",
       "      <th>Sum_charge</th>\n",
       "      <th>Monthly_charge</th>\n",
       "      <th>ReasonCategory</th>\n",
       "    </tr>\n",
       "  </thead>\n",
       "  <tbody>\n",
       "    <tr>\n",
       "      <th>0</th>\n",
       "      <td>C-10001</td>\n",
       "      <td>여성</td>\n",
       "      <td>37</td>\n",
       "      <td>30대</td>\n",
       "      <td>Yes</td>\n",
       "      <td>No</td>\n",
       "      <td>0</td>\n",
       "      <td>Yes</td>\n",
       "      <td>2</td>\n",
       "      <td>Yes</td>\n",
       "      <td>...</td>\n",
       "      <td>NaN</td>\n",
       "      <td>2205</td>\n",
       "      <td>3</td>\n",
       "      <td>0</td>\n",
       "      <td>47910</td>\n",
       "      <td>431100</td>\n",
       "      <td>21.0</td>\n",
       "      <td>1755400.0</td>\n",
       "      <td>83590.0</td>\n",
       "      <td>NaN</td>\n",
       "    </tr>\n",
       "    <tr>\n",
       "      <th>1</th>\n",
       "      <td>C-10002</td>\n",
       "      <td>남성</td>\n",
       "      <td>46</td>\n",
       "      <td>40대</td>\n",
       "      <td>No</td>\n",
       "      <td>No</td>\n",
       "      <td>0</td>\n",
       "      <td>No</td>\n",
       "      <td>0</td>\n",
       "      <td>No</td>\n",
       "      <td>...</td>\n",
       "      <td>NaN</td>\n",
       "      <td>5414</td>\n",
       "      <td>5</td>\n",
       "      <td>11300</td>\n",
       "      <td>12090</td>\n",
       "      <td>108710</td>\n",
       "      <td>21.0</td>\n",
       "      <td>1447500.0</td>\n",
       "      <td>68929.0</td>\n",
       "      <td>NaN</td>\n",
       "    </tr>\n",
       "    <tr>\n",
       "      <th>2</th>\n",
       "      <td>C-10003</td>\n",
       "      <td>남성</td>\n",
       "      <td>50</td>\n",
       "      <td>50대</td>\n",
       "      <td>No</td>\n",
       "      <td>No</td>\n",
       "      <td>0</td>\n",
       "      <td>No</td>\n",
       "      <td>0</td>\n",
       "      <td>Yes</td>\n",
       "      <td>...</td>\n",
       "      <td>Price too high</td>\n",
       "      <td>4479</td>\n",
       "      <td>1</td>\n",
       "      <td>0</td>\n",
       "      <td>38080</td>\n",
       "      <td>152100</td>\n",
       "      <td>5.0</td>\n",
       "      <td>490900.0</td>\n",
       "      <td>98180.0</td>\n",
       "      <td>Price</td>\n",
       "    </tr>\n",
       "    <tr>\n",
       "      <th>3</th>\n",
       "      <td>C-10004</td>\n",
       "      <td>남성</td>\n",
       "      <td>78</td>\n",
       "      <td>70대</td>\n",
       "      <td>Yes</td>\n",
       "      <td>No</td>\n",
       "      <td>0</td>\n",
       "      <td>Yes</td>\n",
       "      <td>1</td>\n",
       "      <td>Yes</td>\n",
       "      <td>...</td>\n",
       "      <td>Product dissatisfaction</td>\n",
       "      <td>3714</td>\n",
       "      <td>1</td>\n",
       "      <td>0</td>\n",
       "      <td>31410</td>\n",
       "      <td>408720</td>\n",
       "      <td>14.0</td>\n",
       "      <td>1578400.0</td>\n",
       "      <td>112743.0</td>\n",
       "      <td>PS</td>\n",
       "    </tr>\n",
       "    <tr>\n",
       "      <th>4</th>\n",
       "      <td>C-10005</td>\n",
       "      <td>여성</td>\n",
       "      <td>75</td>\n",
       "      <td>70대</td>\n",
       "      <td>Yes</td>\n",
       "      <td>No</td>\n",
       "      <td>0</td>\n",
       "      <td>Yes</td>\n",
       "      <td>3</td>\n",
       "      <td>Yes</td>\n",
       "      <td>...</td>\n",
       "      <td>Network reliability</td>\n",
       "      <td>3464</td>\n",
       "      <td>1</td>\n",
       "      <td>0</td>\n",
       "      <td>8360</td>\n",
       "      <td>24970</td>\n",
       "      <td>4.0</td>\n",
       "      <td>378000.0</td>\n",
       "      <td>94500.0</td>\n",
       "      <td>PS</td>\n",
       "    </tr>\n",
       "    <tr>\n",
       "      <th>...</th>\n",
       "      <td>...</td>\n",
       "      <td>...</td>\n",
       "      <td>...</td>\n",
       "      <td>...</td>\n",
       "      <td>...</td>\n",
       "      <td>...</td>\n",
       "      <td>...</td>\n",
       "      <td>...</td>\n",
       "      <td>...</td>\n",
       "      <td>...</td>\n",
       "      <td>...</td>\n",
       "      <td>...</td>\n",
       "      <td>...</td>\n",
       "      <td>...</td>\n",
       "      <td>...</td>\n",
       "      <td>...</td>\n",
       "      <td>...</td>\n",
       "      <td>...</td>\n",
       "      <td>...</td>\n",
       "      <td>...</td>\n",
       "      <td>...</td>\n",
       "    </tr>\n",
       "    <tr>\n",
       "      <th>6858</th>\n",
       "      <td>C-17039</td>\n",
       "      <td>여성</td>\n",
       "      <td>20</td>\n",
       "      <td>20대</td>\n",
       "      <td>No</td>\n",
       "      <td>No</td>\n",
       "      <td>0</td>\n",
       "      <td>No</td>\n",
       "      <td>0</td>\n",
       "      <td>No</td>\n",
       "      <td>...</td>\n",
       "      <td>NaN</td>\n",
       "      <td>3161</td>\n",
       "      <td>4</td>\n",
       "      <td>0</td>\n",
       "      <td>52770</td>\n",
       "      <td>685680</td>\n",
       "      <td>25.0</td>\n",
       "      <td>1610700.0</td>\n",
       "      <td>64428.0</td>\n",
       "      <td>NaN</td>\n",
       "    </tr>\n",
       "    <tr>\n",
       "      <th>6859</th>\n",
       "      <td>C-17040</td>\n",
       "      <td>남성</td>\n",
       "      <td>40</td>\n",
       "      <td>40대</td>\n",
       "      <td>Yes</td>\n",
       "      <td>No</td>\n",
       "      <td>0</td>\n",
       "      <td>Yes</td>\n",
       "      <td>1</td>\n",
       "      <td>Yes</td>\n",
       "      <td>...</td>\n",
       "      <td>Product dissatisfaction</td>\n",
       "      <td>5248</td>\n",
       "      <td>1</td>\n",
       "      <td>0</td>\n",
       "      <td>18310</td>\n",
       "      <td>402730</td>\n",
       "      <td>23.0</td>\n",
       "      <td>2343500.0</td>\n",
       "      <td>101891.0</td>\n",
       "      <td>PS</td>\n",
       "    </tr>\n",
       "    <tr>\n",
       "      <th>6860</th>\n",
       "      <td>C-17041</td>\n",
       "      <td>남성</td>\n",
       "      <td>22</td>\n",
       "      <td>20대</td>\n",
       "      <td>No</td>\n",
       "      <td>No</td>\n",
       "      <td>0</td>\n",
       "      <td>No</td>\n",
       "      <td>0</td>\n",
       "      <td>Yes</td>\n",
       "      <td>...</td>\n",
       "      <td>NaN</td>\n",
       "      <td>5870</td>\n",
       "      <td>5</td>\n",
       "      <td>0</td>\n",
       "      <td>21020</td>\n",
       "      <td>42040</td>\n",
       "      <td>14.0</td>\n",
       "      <td>792400.0</td>\n",
       "      <td>56600.0</td>\n",
       "      <td>NaN</td>\n",
       "    </tr>\n",
       "    <tr>\n",
       "      <th>6861</th>\n",
       "      <td>C-17042</td>\n",
       "      <td>남성</td>\n",
       "      <td>21</td>\n",
       "      <td>20대</td>\n",
       "      <td>No</td>\n",
       "      <td>No</td>\n",
       "      <td>0</td>\n",
       "      <td>Yes</td>\n",
       "      <td>5</td>\n",
       "      <td>No</td>\n",
       "      <td>...</td>\n",
       "      <td>NaN</td>\n",
       "      <td>4792</td>\n",
       "      <td>3</td>\n",
       "      <td>0</td>\n",
       "      <td>2370</td>\n",
       "      <td>160460</td>\n",
       "      <td>79.0</td>\n",
       "      <td>6328500.0</td>\n",
       "      <td>80108.0</td>\n",
       "      <td>NaN</td>\n",
       "    </tr>\n",
       "    <tr>\n",
       "      <th>6862</th>\n",
       "      <td>C-17043</td>\n",
       "      <td>남성</td>\n",
       "      <td>36</td>\n",
       "      <td>30대</td>\n",
       "      <td>Yes</td>\n",
       "      <td>No</td>\n",
       "      <td>0</td>\n",
       "      <td>Yes</td>\n",
       "      <td>1</td>\n",
       "      <td>No</td>\n",
       "      <td>...</td>\n",
       "      <td>NaN</td>\n",
       "      <td>5639</td>\n",
       "      <td>3</td>\n",
       "      <td>0</td>\n",
       "      <td>0</td>\n",
       "      <td>0</td>\n",
       "      <td>75.0</td>\n",
       "      <td>5196100.0</td>\n",
       "      <td>69281.0</td>\n",
       "      <td>NaN</td>\n",
       "    </tr>\n",
       "  </tbody>\n",
       "</table>\n",
       "<p>6863 rows × 32 columns</p>\n",
       "</div>"
      ],
      "text/plain": [
       "     CustomerId Gender  Age AgeGroup Married Dependents  noDependents  \\\n",
       "0       C-10001     여성   37      30대     Yes         No             0   \n",
       "1       C-10002     남성   46      40대      No         No             0   \n",
       "2       C-10003     남성   50      50대      No         No             0   \n",
       "3       C-10004     남성   78      70대     Yes         No             0   \n",
       "4       C-10005     여성   75      70대     Yes         No             0   \n",
       "...         ...    ...  ...      ...     ...        ...           ...   \n",
       "6858    C-17039     여성   20      20대      No         No             0   \n",
       "6859    C-17040     남성   40      40대     Yes         No             0   \n",
       "6860    C-17041     남성   22      20대      No         No             0   \n",
       "6861    C-17042     남성   21      20대      No         No             0   \n",
       "6862    C-17043     남성   36      30대     Yes         No             0   \n",
       "\n",
       "     Referrals  noReferrals PaperlessBilling  ...              ChurnReason  \\\n",
       "0          Yes            2              Yes  ...                      NaN   \n",
       "1           No            0               No  ...                      NaN   \n",
       "2           No            0              Yes  ...           Price too high   \n",
       "3          Yes            1              Yes  ...  Product dissatisfaction   \n",
       "4          Yes            3              Yes  ...      Network reliability   \n",
       "...        ...          ...              ...  ...                      ...   \n",
       "6858        No            0               No  ...                      NaN   \n",
       "6859       Yes            1              Yes  ...  Product dissatisfaction   \n",
       "6860        No            0              Yes  ...                      NaN   \n",
       "6861       Yes            5               No  ...                      NaN   \n",
       "6862       Yes            1               No  ...                      NaN   \n",
       "\n",
       "     CustomerLTV SatisScore TotalExtraDataCharge AvgRoamCharge  \\\n",
       "0           2205          3                    0         47910   \n",
       "1           5414          5                11300         12090   \n",
       "2           4479          1                    0         38080   \n",
       "3           3714          1                    0         31410   \n",
       "4           3464          1                    0          8360   \n",
       "...          ...        ...                  ...           ...   \n",
       "6858        3161          4                    0         52770   \n",
       "6859        5248          1                    0         18310   \n",
       "6860        5870          5                    0         21020   \n",
       "6861        4792          3                    0          2370   \n",
       "6862        5639          3                    0             0   \n",
       "\n",
       "      TotalRoamCharge Tenure_month Sum_charge Monthly_charge ReasonCategory  \n",
       "0              431100         21.0  1755400.0        83590.0            NaN  \n",
       "1              108710         21.0  1447500.0        68929.0            NaN  \n",
       "2              152100          5.0   490900.0        98180.0          Price  \n",
       "3              408720         14.0  1578400.0       112743.0             PS  \n",
       "4               24970          4.0   378000.0        94500.0             PS  \n",
       "...               ...          ...        ...            ...            ...  \n",
       "6858           685680         25.0  1610700.0        64428.0            NaN  \n",
       "6859           402730         23.0  2343500.0       101891.0             PS  \n",
       "6860            42040         14.0   792400.0        56600.0            NaN  \n",
       "6861           160460         79.0  6328500.0        80108.0            NaN  \n",
       "6862                0         75.0  5196100.0        69281.0            NaN  \n",
       "\n",
       "[6863 rows x 32 columns]"
      ]
     },
     "execution_count": 38,
     "metadata": {},
     "output_type": "execute_result"
    }
   ],
   "source": [
    "df_raw"
   ]
  },
  {
   "cell_type": "code",
   "execution_count": 40,
   "id": "e7ce9edd",
   "metadata": {},
   "outputs": [],
   "source": [
    "df_raw.to_csv('tele_customer_final.csv')"
   ]
  }
 ],
 "metadata": {
  "kernelspec": {
   "display_name": "Python 3 (ipykernel)",
   "language": "python",
   "name": "python3"
  },
  "language_info": {
   "codemirror_mode": {
    "name": "ipython",
    "version": 3
   },
   "file_extension": ".py",
   "mimetype": "text/x-python",
   "name": "python",
   "nbconvert_exporter": "python",
   "pygments_lexer": "ipython3",
   "version": "3.9.13"
  },
  "toc": {
   "base_numbering": 1,
   "nav_menu": {},
   "number_sections": true,
   "sideBar": true,
   "skip_h1_title": false,
   "title_cell": "Table of Contents",
   "title_sidebar": "Contents",
   "toc_cell": false,
   "toc_position": {
    "height": "calc(100% - 180px)",
    "left": "10px",
    "top": "150px",
    "width": "460.8px"
   },
   "toc_section_display": true,
   "toc_window_display": true
  }
 },
 "nbformat": 4,
 "nbformat_minor": 5
}
