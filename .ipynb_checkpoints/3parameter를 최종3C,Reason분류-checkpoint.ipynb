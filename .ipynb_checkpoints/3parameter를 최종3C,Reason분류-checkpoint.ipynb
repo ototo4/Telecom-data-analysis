{
 "cells": [
  {
   "cell_type": "code",
   "execution_count": 5,
   "id": "378b1df7",
   "metadata": {},
   "outputs": [],
   "source": [
    "import pandas as pd\n",
    "#행렬 연산 패키지\n",
    "import numpy as np\n",
    "#데이터 시각화 패키지\n",
    "import matplotlib as mpl\n",
    "import matplotlib.pyplot as plt\n",
    "import matplotlib.font_manager\n",
    "import seaborn as sns"
   ]
  },
  {
   "cell_type": "markdown",
   "id": "77be2d6a",
   "metadata": {},
   "source": [
    "# 데이터 읽기"
   ]
  },
  {
   "cell_type": "code",
   "execution_count": 9,
   "id": "f98025c0",
   "metadata": {},
   "outputs": [],
   "source": [
    "df_raw = pd.read_csv('telco_customer.csv', encoding = 'euc-kr')"
   ]
  },
  {
   "cell_type": "markdown",
   "id": "3e8573ce",
   "metadata": {},
   "source": [
    "# 결측값 제거"
   ]
  },
  {
   "cell_type": "code",
   "execution_count": 10,
   "id": "d91a3b8a",
   "metadata": {},
   "outputs": [],
   "source": [
    "df_raw = df_raw.drop(df_raw[(df_raw['UnlimitedData'] == 'No') \\\n",
    "                            & (df_raw['AvgDownloadGB'] > 60) \\\n",
    "                            & (df_raw['TotalExtraDataCharge'] == 0)].index, axis = 'index')"
   ]
  },
  {
   "cell_type": "markdown",
   "id": "e67b3e40",
   "metadata": {},
   "source": [
    "# 파생 변수"
   ]
  },
  {
   "cell_type": "markdown",
   "id": "ca200b0a",
   "metadata": {},
   "source": [
    "## Tenure_month"
   ]
  },
  {
   "cell_type": "markdown",
   "id": "9fe6e7cd",
   "metadata": {},
   "source": [
    "## Sum_charge"
   ]
  },
  {
   "cell_type": "markdown",
   "id": "3ee68ba1",
   "metadata": {},
   "source": [
    "## Monthly_charge"
   ]
  },
  {
   "cell_type": "markdown",
   "id": "e052b3b4",
   "metadata": {},
   "source": [
    "## Churn Category를 3C로"
   ]
  },
  {
   "cell_type": "markdown",
   "id": "23e4d77e",
   "metadata": {},
   "source": [
    "### other 재분류"
   ]
  },
  {
   "cell_type": "code",
   "execution_count": 4,
   "id": "6ed1e2c0",
   "metadata": {},
   "outputs": [
    {
     "name": "stderr",
     "output_type": "stream",
     "text": [
      "/tmp/ipykernel_4211/47040919.py:10: SettingWithCopyWarning: \n",
      "A value is trying to be set on a copy of a slice from a DataFrame\n",
      "\n",
      "See the caveats in the documentation: https://pandas.pydata.org/pandas-docs/stable/user_guide/indexing.html#returning-a-view-versus-a-copy\n",
      "  df_raw['ChurnCategory'][i] = 'Competitor'\n",
      "/tmp/ipykernel_4211/47040919.py:27: SettingWithCopyWarning: \n",
      "A value is trying to be set on a copy of a slice from a DataFrame\n",
      "\n",
      "See the caveats in the documentation: https://pandas.pydata.org/pandas-docs/stable/user_guide/indexing.html#returning-a-view-versus-a-copy\n",
      "  df_raw['ChurnCategory'][i] = 'Dissatisfaction'\n",
      "/tmp/ipykernel_4211/47040919.py:35: SettingWithCopyWarning: \n",
      "A value is trying to be set on a copy of a slice from a DataFrame\n",
      "\n",
      "See the caveats in the documentation: https://pandas.pydata.org/pandas-docs/stable/user_guide/indexing.html#returning-a-view-versus-a-copy\n",
      "  df_raw['ChurnCategory'][i] = 'Attitude'\n",
      "/tmp/ipykernel_4211/47040919.py:18: SettingWithCopyWarning: \n",
      "A value is trying to be set on a copy of a slice from a DataFrame\n",
      "\n",
      "See the caveats in the documentation: https://pandas.pydata.org/pandas-docs/stable/user_guide/indexing.html#returning-a-view-versus-a-copy\n",
      "  df_raw['ChurnCategory'][i] = 'Price'\n"
     ]
    }
   ],
   "source": [
    "for i in range(len(df_raw)):\n",
    "    if(df_raw['ChurnCategory'][i] == 'Other'):\n",
    "        #Competitor\n",
    "        df_change = ((df_raw['ChurnReason'].str.contains('Competitor offered more data')) |\\\n",
    "                     (df_raw['ChurnReason'].str.contains('Competitor offered higher download speeds')) |\\\n",
    "                     (df_raw['ChurnReason'].str.contains('Competitor offered more data')))      \n",
    "        df_change = df_change.replace({True: 'Competitor', False: 'Non'})\n",
    "        \n",
    "        if(df_change[i] == 'Competitor'):\n",
    "            df_raw['ChurnCategory'][i] = 'Competitor'\n",
    "        \n",
    "        #Price\n",
    "        df_change = ((df_raw['ChurnReason'].str.contains('Price too high')) |\\\n",
    "                     (df_raw['ChurnReason'].str.contains('Extra data charges')))\n",
    "        df_change = df_change.replace({True: 'Price', False: 'Non'})\n",
    "        \n",
    "        if(df_change[i] == 'Price'):\n",
    "            df_raw['ChurnCategory'][i] = 'Price'\n",
    "        \n",
    "        #Dissatisfaction\n",
    "        df_change = ((df_raw['ChurnReason'].str.contains('Limited range of services')) |\\\n",
    "                     (df_raw['ChurnReason'].str.contains('Service dissatisfaction')) |\\\n",
    "                     (df_raw['ChurnReason'].str.contains('Network reliability')))\n",
    "        df_change = df_change.replace({True: 'Dissatisfaction', False: 'Non'})\n",
    "\n",
    "        if(df_change[i] == 'Dissatisfaction'):\n",
    "            df_raw['ChurnCategory'][i] = 'Dissatisfaction'   \n",
    "            \n",
    "        #Attitude\n",
    "        df_change = (df_raw['ChurnReason'].str.contains('Attitude of support person') |\\\n",
    "                     df_raw['ChurnReason'].str.contains('Attitude of service provider'))\n",
    "        df_change = df_change.replace({True: 'Attitude', False: 'Non'})\n",
    "                      \n",
    "        if(df_change[i] == 'Attitude'):\n",
    "            df_raw['ChurnCategory'][i] = 'Attitude'              "
   ]
  },
  {
   "cell_type": "code",
   "execution_count": 5,
   "id": "e9caaa09",
   "metadata": {},
   "outputs": [
    {
     "data": {
      "text/plain": [
       "Don't know                      119\n",
       "Moved                            43\n",
       "Deceased                          4\n",
       "Competitor made better offer      3\n",
       "Name: ChurnReason, dtype: int64"
      ]
     },
     "execution_count": 5,
     "metadata": {},
     "output_type": "execute_result"
    }
   ],
   "source": [
    "df_raw['ChurnReason'][df_raw['ChurnCategory'] == 'Other'].value_counts()"
   ]
  },
  {
   "cell_type": "markdown",
   "id": "b040ba7a",
   "metadata": {},
   "source": [
    "### ChurnCategory 3C로 바꾸기"
   ]
  },
  {
   "cell_type": "code",
   "execution_count": 6,
   "id": "8d26314a",
   "metadata": {},
   "outputs": [
    {
     "name": "stderr",
     "output_type": "stream",
     "text": [
      "/tmp/ipykernel_4211/1873547558.py:4: SettingWithCopyWarning: \n",
      "A value is trying to be set on a copy of a slice from a DataFrame\n",
      "\n",
      "See the caveats in the documentation: https://pandas.pydata.org/pandas-docs/stable/user_guide/indexing.html#returning-a-view-versus-a-copy\n",
      "  df_raw['ChurnCategory'][i] = 'Cosumer'\n",
      "/tmp/ipykernel_4211/1873547558.py:8: SettingWithCopyWarning: \n",
      "A value is trying to be set on a copy of a slice from a DataFrame\n",
      "\n",
      "See the caveats in the documentation: https://pandas.pydata.org/pandas-docs/stable/user_guide/indexing.html#returning-a-view-versus-a-copy\n",
      "  df_raw['ChurnCategory'][i] = 'Company'\n"
     ]
    }
   ],
   "source": [
    "for i in range(len(df_raw)):\n",
    "    if ((df_raw['ChurnCategory'][i] == 'Dissatisfaction')\\\n",
    "        | (df_raw['ChurnCategory'][i] == 'Other')):\n",
    "        df_raw['ChurnCategory'][i] = 'Cosumer'\n",
    "        continue\n",
    "    if ((df_raw['ChurnCategory'][i] == 'Price')\\\n",
    "        | (df_raw['ChurnCategory'][i] == 'Attitude')):\n",
    "        df_raw['ChurnCategory'][i] = 'Company'\n",
    "        continue"
   ]
  },
  {
   "cell_type": "code",
   "execution_count": 7,
   "id": "65ba9240",
   "metadata": {
    "scrolled": true
   },
   "outputs": [
    {
     "data": {
      "text/plain": [
       "Competitor    765\n",
       "Company       486\n",
       "Cosumer       451\n",
       "Name: ChurnCategory, dtype: int64"
      ]
     },
     "execution_count": 7,
     "metadata": {},
     "output_type": "execute_result"
    }
   ],
   "source": [
    "df_raw['ChurnCategory'].value_counts()"
   ]
  },
  {
   "cell_type": "markdown",
   "id": "2aabf376",
   "metadata": {},
   "source": [
    "### Reason price 부분은 다 company로"
   ]
  },
  {
   "cell_type": "code",
   "execution_count": 8,
   "id": "f4efa148",
   "metadata": {},
   "outputs": [
    {
     "name": "stderr",
     "output_type": "stream",
     "text": [
      "/tmp/ipykernel_4211/848702448.py:8: SettingWithCopyWarning: \n",
      "A value is trying to be set on a copy of a slice from a DataFrame\n",
      "\n",
      "See the caveats in the documentation: https://pandas.pydata.org/pandas-docs/stable/user_guide/indexing.html#returning-a-view-versus-a-copy\n",
      "  df_raw['ChurnCategory'][i] = 'Company'\n"
     ]
    }
   ],
   "source": [
    "for i in range(len(df_raw)):\n",
    "    df_change = ((df_raw['ChurnReason'].str.contains('Price too high')) |\\\n",
    "                 (df_raw['ChurnReason'].str.contains('Extra data charges')) |\\\n",
    "                 (df_raw['ChurnReason'].str.contains('Long distance charges')))      \n",
    "    df_change = df_change.replace({True: 'Company', False: 'Non'})\n",
    "        \n",
    "    if(df_change[i] == 'Company'):\n",
    "        df_raw['ChurnCategory'][i] = 'Company'"
   ]
  },
  {
   "cell_type": "markdown",
   "id": "34823895",
   "metadata": {},
   "source": [
    "## ReasonCategory"
   ]
  },
  {
   "cell_type": "code",
   "execution_count": 9,
   "id": "b19cf4ab",
   "metadata": {},
   "outputs": [],
   "source": [
    "df_raw['ReasonCategory'] = np.NaN"
   ]
  },
  {
   "cell_type": "code",
   "execution_count": 10,
   "id": "bbbf65d9",
   "metadata": {},
   "outputs": [
    {
     "name": "stderr",
     "output_type": "stream",
     "text": [
      "/tmp/ipykernel_4211/206046297.py:37: SettingWithCopyWarning: \n",
      "A value is trying to be set on a copy of a slice from a DataFrame\n",
      "\n",
      "See the caveats in the documentation: https://pandas.pydata.org/pandas-docs/stable/user_guide/indexing.html#returning-a-view-versus-a-copy\n",
      "  df_raw['ReasonCategory'][i] = 'Price'\n"
     ]
    }
   ],
   "source": [
    "for i in range(len(df_raw)):\n",
    "    #Product service\n",
    "    df_change = ((df_raw['ChurnReason'].str.contains('Competitor offered more data')) |\\\n",
    "                 (df_raw['ChurnReason'].str.contains('Competitor made better offer')) |\\\n",
    "                 (df_raw['ChurnReason'].str.contains('Competitor had better devices')) |\\\n",
    "                 (df_raw['ChurnReason'].str.contains('Attitude of support person')) |\\\n",
    "                 (df_raw['ChurnReason'].str.contains('Product dissatisfaction')) |\\\n",
    "                 (df_raw['ChurnReason'].str.contains('Poor expertise of phone support')) |\\\n",
    "                 (df_raw['ChurnReason'].str.contains('Limited range of services')) |\\\n",
    "                 (df_raw['ChurnReason'].str.contains('Attitude of support person')) |\\\n",
    "                 (df_raw['ChurnReason'].str.contains('Network reliability')) |\\\n",
    "                 (df_raw['ChurnReason'].str.contains('Competitor offered higher download speeds')) |\\\n",
    "                 (df_raw['ChurnReason'].str.contains('Lack of affordable download/upload speed')))\n",
    "    df_change = df_change.replace({True: 'PS', False: 'Non'})\n",
    "        \n",
    "    if(df_change[i] == 'PS'):\n",
    "        df_raw['ReasonCategory'][i] = 'PS'\n",
    "        \n",
    "    #Customer service\n",
    "    df_change = ((df_raw['ChurnReason'].str.contains('Attitude of service provider')) |\\\n",
    "                 (df_raw['ChurnReason'].str.contains('Service dissatisfaction')) |\\\n",
    "                 (df_raw['ChurnReason'].str.contains('Lack of self-service on Website')) |\\\n",
    "                 (df_raw['ChurnReason'].str.contains('Poor expertise of online support')) |\\\n",
    "                 (df_raw['ChurnReason'].str.contains('Attitude of service provider')))\n",
    "    df_change = df_change.replace({True: 'CS', False: 'Non'})\n",
    "        \n",
    "    if(df_change[i] == 'CS'):\n",
    "        df_raw['ReasonCategory'][i] = 'CS'\n",
    "    \n",
    "    #Price\n",
    "    df_change = ((df_raw['ChurnReason'].str.contains('Price too high')) |\\\n",
    "                     (df_raw['ChurnReason'].str.contains('Extra data charges')) |\\\n",
    "                     (df_raw['ChurnReason'].str.contains('Long distance charges')))      \n",
    "    df_change = df_change.replace({True: 'Price', False: 'Non'})\n",
    "        \n",
    "    if(df_change[i] == 'Price'):\n",
    "        df_raw['ReasonCategory'][i] = 'Price'\n",
    "        \n",
    "    #Other\n",
    "    df_change = ((df_raw['ChurnReason'].str.contains(\"Don't know\")) |\\\n",
    "                 (df_raw['ChurnReason'].str.contains('Moved')) |\\\n",
    "                 (df_raw['ChurnReason'].str.contains('Deceased')))      \n",
    "    df_change = df_change.replace({True: 'Other', False: 'Non'})\n",
    "        \n",
    "    if(df_change[i] == 'Other'):\n",
    "        df_raw['ReasonCategory'][i] = 'Other'"
   ]
  },
  {
   "cell_type": "code",
   "execution_count": null,
   "id": "2faf1553",
   "metadata": {},
   "outputs": [],
   "source": [
    "print('hi')"
   ]
  },
  {
   "cell_type": "code",
   "execution_count": null,
   "id": "31d688e0",
   "metadata": {},
   "outputs": [],
   "source": []
  }
 ],
 "metadata": {
  "kernelspec": {
   "display_name": "Python 3 (ipykernel)",
   "language": "python",
   "name": "python3"
  },
  "language_info": {
   "codemirror_mode": {
    "name": "ipython",
    "version": 3
   },
   "file_extension": ".py",
   "mimetype": "text/x-python",
   "name": "python",
   "nbconvert_exporter": "python",
   "pygments_lexer": "ipython3",
   "version": "3.9.13"
  },
  "toc": {
   "base_numbering": 1,
   "nav_menu": {},
   "number_sections": true,
   "sideBar": true,
   "skip_h1_title": false,
   "title_cell": "Table of Contents",
   "title_sidebar": "Contents",
   "toc_cell": false,
   "toc_position": {},
   "toc_section_display": true,
   "toc_window_display": true
  }
 },
 "nbformat": 4,
 "nbformat_minor": 5
}
